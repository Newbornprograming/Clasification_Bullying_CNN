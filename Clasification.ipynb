{
 "cells": [
  {
   "cell_type": "code",
   "execution_count": 1,
   "id": "392b77c2",
   "metadata": {},
   "outputs": [],
   "source": [
    "import string\n",
    "import pandas as pd\n",
    "import numpy as np\n",
    "import re\n",
    "import string"
   ]
  },
  {
   "cell_type": "code",
   "execution_count": 2,
   "id": "f57df403",
   "metadata": {},
   "outputs": [
    {
     "data": {
      "text/html": [
       "<div>\n",
       "<style scoped>\n",
       "    .dataframe tbody tr th:only-of-type {\n",
       "        vertical-align: middle;\n",
       "    }\n",
       "\n",
       "    .dataframe tbody tr th {\n",
       "        vertical-align: top;\n",
       "    }\n",
       "\n",
       "    .dataframe thead th {\n",
       "        text-align: right;\n",
       "    }\n",
       "</style>\n",
       "<table border=\"1\" class=\"dataframe\">\n",
       "  <thead>\n",
       "    <tr style=\"text-align: right;\">\n",
       "      <th></th>\n",
       "      <th>publishedAt</th>\n",
       "      <th>authorDisplayName</th>\n",
       "      <th>textDisplay</th>\n",
       "      <th>likeCount</th>\n",
       "    </tr>\n",
       "  </thead>\n",
       "  <tbody>\n",
       "    <tr>\n",
       "      <th>0</th>\n",
       "      <td>2023-11-26T22:41:45Z</td>\n",
       "      <td>yuliyan susilo</td>\n",
       "      <td>Coba pikir,,,ini jelas salah,,tp sedikit orang...</td>\n",
       "      <td>0</td>\n",
       "    </tr>\n",
       "    <tr>\n",
       "      <th>1</th>\n",
       "      <td>2023-11-26T21:08:50Z</td>\n",
       "      <td>Dimin Suherman</td>\n",
       "      <td>Udh mending pilih anis,  udh jelas jelas kan, ...</td>\n",
       "      <td>0</td>\n",
       "    </tr>\n",
       "    <tr>\n",
       "      <th>2</th>\n",
       "      <td>2023-11-21T15:33:57Z</td>\n",
       "      <td>P Mamayan</td>\n",
       "      <td>mba nana harusnnya jangan framing kubu yg nga ...</td>\n",
       "      <td>0</td>\n",
       "    </tr>\n",
       "    <tr>\n",
       "      <th>3</th>\n",
       "      <td>2023-11-19T16:23:30Z</td>\n",
       "      <td>VIRAL LUCU</td>\n",
       "      <td>Saya FANATIK Jokowi tapi stelah terjadi REKAYA...</td>\n",
       "      <td>0</td>\n",
       "    </tr>\n",
       "    <tr>\n",
       "      <th>4</th>\n",
       "      <td>2023-11-18T14:43:31Z</td>\n",
       "      <td>Novita Achmad</td>\n",
       "      <td>assalamualaikum mbak,,,saya koq gak lihat meng...</td>\n",
       "      <td>0</td>\n",
       "    </tr>\n",
       "    <tr>\n",
       "      <th>5</th>\n",
       "      <td>2023-11-17T04:18:19Z</td>\n",
       "      <td>Munirul Khakim</td>\n",
       "      <td>Apakah ini pelanggaran moral etik berat dinega...</td>\n",
       "      <td>0</td>\n",
       "    </tr>\n",
       "    <tr>\n",
       "      <th>6</th>\n",
       "      <td>2023-11-16T08:12:46Z</td>\n",
       "      <td>BOSSJOE tv</td>\n",
       "      <td>Fakta: satu satunya orang di indonesia yg meng...</td>\n",
       "      <td>0</td>\n",
       "    </tr>\n",
       "    <tr>\n",
       "      <th>7</th>\n",
       "      <td>2023-11-15T10:44:51Z</td>\n",
       "      <td>didin saripudin</td>\n",
       "      <td>Setali tiga uang paman sama ponakan sama2 gak ...</td>\n",
       "      <td>0</td>\n",
       "    </tr>\n",
       "    <tr>\n",
       "      <th>8</th>\n",
       "      <td>2023-11-14T12:45:01Z</td>\n",
       "      <td>AKMAL MAXIMAL</td>\n",
       "      <td>Jangan sampai mereka berkuasa, kita anak indon...</td>\n",
       "      <td>0</td>\n",
       "    </tr>\n",
       "    <tr>\n",
       "      <th>9</th>\n",
       "      <td>2023-11-14T08:24:22Z</td>\n",
       "      <td>Alfa Beta</td>\n",
       "      <td>Lawak negeri ini kepala dinas pendidikan kampa...</td>\n",
       "      <td>0</td>\n",
       "    </tr>\n",
       "  </tbody>\n",
       "</table>\n",
       "</div>"
      ],
      "text/plain": [
       "            publishedAt authorDisplayName  \\\n",
       "0  2023-11-26T22:41:45Z    yuliyan susilo   \n",
       "1  2023-11-26T21:08:50Z    Dimin Suherman   \n",
       "2  2023-11-21T15:33:57Z         P Mamayan   \n",
       "3  2023-11-19T16:23:30Z        VIRAL LUCU   \n",
       "4  2023-11-18T14:43:31Z     Novita Achmad   \n",
       "5  2023-11-17T04:18:19Z    Munirul Khakim   \n",
       "6  2023-11-16T08:12:46Z        BOSSJOE tv   \n",
       "7  2023-11-15T10:44:51Z   didin saripudin   \n",
       "8  2023-11-14T12:45:01Z     AKMAL MAXIMAL   \n",
       "9  2023-11-14T08:24:22Z         Alfa Beta   \n",
       "\n",
       "                                         textDisplay  likeCount  \n",
       "0  Coba pikir,,,ini jelas salah,,tp sedikit orang...          0  \n",
       "1  Udh mending pilih anis,  udh jelas jelas kan, ...          0  \n",
       "2  mba nana harusnnya jangan framing kubu yg nga ...          0  \n",
       "3  Saya FANATIK Jokowi tapi stelah terjadi REKAYA...          0  \n",
       "4  assalamualaikum mbak,,,saya koq gak lihat meng...          0  \n",
       "5  Apakah ini pelanggaran moral etik berat dinega...          0  \n",
       "6  Fakta: satu satunya orang di indonesia yg meng...          0  \n",
       "7  Setali tiga uang paman sama ponakan sama2 gak ...          0  \n",
       "8  Jangan sampai mereka berkuasa, kita anak indon...          0  \n",
       "9  Lawak negeri ini kepala dinas pendidikan kampa...          0  "
      ]
     },
     "execution_count": 2,
     "metadata": {},
     "output_type": "execute_result"
    }
   ],
   "source": [
    "data = pd.read_csv('prabowo_mkdataset.csv', encoding='latin1')\n",
    "data.head(10)"
   ]
  },
  {
   "cell_type": "code",
   "execution_count": 3,
   "id": "4ca1e130",
   "metadata": {},
   "outputs": [
    {
     "name": "stdout",
     "output_type": "stream",
     "text": [
      "4\n",
      "textDisplay    0\n",
      "dtype: int64\n"
     ]
    }
   ],
   "source": [
    "#cek nilai duplicate dan nilai kosong\n",
    "data = data[['textDisplay']]\n",
    "print(data.duplicated().sum())\n",
    "print(data.isnull().sum())"
   ]
  },
  {
   "cell_type": "code",
   "execution_count": 4,
   "id": "4e2a081e",
   "metadata": {},
   "outputs": [
    {
     "name": "stdout",
     "output_type": "stream",
     "text": [
      "0\n",
      "textDisplay    0\n",
      "dtype: int64\n"
     ]
    }
   ],
   "source": [
    "#menghilangkan nilai duplicate dan nilai kosong\n",
    "data = data.drop_duplicates()\n",
    "data= data.dropna()\n",
    "print(data.duplicated().sum())\n",
    "print(data.isnull().sum())"
   ]
  },
  {
   "cell_type": "code",
   "execution_count": 5,
   "id": "e576c8a9",
   "metadata": {},
   "outputs": [
    {
     "data": {
      "text/html": [
       "<div>\n",
       "<style scoped>\n",
       "    .dataframe tbody tr th:only-of-type {\n",
       "        vertical-align: middle;\n",
       "    }\n",
       "\n",
       "    .dataframe tbody tr th {\n",
       "        vertical-align: top;\n",
       "    }\n",
       "\n",
       "    .dataframe thead th {\n",
       "        text-align: right;\n",
       "    }\n",
       "</style>\n",
       "<table border=\"1\" class=\"dataframe\">\n",
       "  <thead>\n",
       "    <tr style=\"text-align: right;\">\n",
       "      <th></th>\n",
       "      <th>textDisplay</th>\n",
       "    </tr>\n",
       "  </thead>\n",
       "  <tbody>\n",
       "    <tr>\n",
       "      <th>0</th>\n",
       "      <td>coba pikir ini jelas salah tp sedikit orang yg...</td>\n",
       "    </tr>\n",
       "    <tr>\n",
       "      <th>1</th>\n",
       "      <td>udh mending pilih anis udh jelas jelas kan ing...</td>\n",
       "    </tr>\n",
       "    <tr>\n",
       "      <th>2</th>\n",
       "      <td>mba nana harusnnya jangan framing kubu yg nga ...</td>\n",
       "    </tr>\n",
       "    <tr>\n",
       "      <th>3</th>\n",
       "      <td>saya fanatik jokowi tapi stelah terjadi rekaya...</td>\n",
       "    </tr>\n",
       "    <tr>\n",
       "      <th>4</th>\n",
       "      <td>assalamualaikum mbak saya koq gak lihat mengge...</td>\n",
       "    </tr>\n",
       "    <tr>\n",
       "      <th>...</th>\n",
       "      <td>...</td>\n",
       "    </tr>\n",
       "    <tr>\n",
       "      <th>891</th>\n",
       "      <td>kode keras dari najwa kalau gibran sampai maju...</td>\n",
       "    </tr>\n",
       "    <tr>\n",
       "      <th>892</th>\n",
       "      <td>saldi isra itu hakim pilihan presiden mereka s...</td>\n",
       "    </tr>\n",
       "    <tr>\n",
       "      <th>893</th>\n",
       "      <td>iya dong mubazir klo gk dipake</td>\n",
       "    </tr>\n",
       "    <tr>\n",
       "      <th>895</th>\n",
       "      <td>s7</td>\n",
       "    </tr>\n",
       "    <tr>\n",
       "      <th>896</th>\n",
       "      <td>saiyandungu beda antara mubazir dg maruk cukme...</td>\n",
       "    </tr>\n",
       "  </tbody>\n",
       "</table>\n",
       "<p>893 rows × 1 columns</p>\n",
       "</div>"
      ],
      "text/plain": [
       "                                           textDisplay\n",
       "0    coba pikir ini jelas salah tp sedikit orang yg...\n",
       "1    udh mending pilih anis udh jelas jelas kan ing...\n",
       "2    mba nana harusnnya jangan framing kubu yg nga ...\n",
       "3    saya fanatik jokowi tapi stelah terjadi rekaya...\n",
       "4    assalamualaikum mbak saya koq gak lihat mengge...\n",
       "..                                                 ...\n",
       "891  kode keras dari najwa kalau gibran sampai maju...\n",
       "892  saldi isra itu hakim pilihan presiden mereka s...\n",
       "893                     iya dong mubazir klo gk dipake\n",
       "895                                                 s7\n",
       "896  saiyandungu beda antara mubazir dg maruk cukme...\n",
       "\n",
       "[893 rows x 1 columns]"
      ]
     },
     "execution_count": 5,
     "metadata": {},
     "output_type": "execute_result"
    }
   ],
   "source": [
    "def clean_twitter_text(text):\n",
    "    # Menghapus mentions, hashtags, dan URL\n",
    "    text = re.sub(r'@[A-Za-z0-9_]+', '', text)\n",
    "    text = re.sub(r'#\\w+', '', text)\n",
    "    text = re.sub(r'RT[\\s]+', '', text)\n",
    "    text = re.sub(r',', ' ', text)\n",
    "    text = re.sub(r'<br>', '', text)\n",
    "    text = re.sub(r'https?://\\S+', '', text)\n",
    "    text = re.sub(r'[^A-Za-z0-9 ]', '', text)\n",
    "    text = re.sub(r'\\s+', ' ', text).strip()\n",
    "    \n",
    "    return text\n",
    "\n",
    "#clean dari hastag dll\n",
    "data['textDisplay'] = data['textDisplay'].apply(clean_twitter_text)\n",
    "#mengecilkan semua huruf\n",
    "data['textDisplay'] = data['textDisplay'].str.lower()\n",
    "data"
   ]
  },
  {
   "cell_type": "code",
   "execution_count": 6,
   "id": "a12c8229",
   "metadata": {},
   "outputs": [],
   "source": [
    "def replace_words_in_sentence(dataframe, column_name, replacements):\n",
    "    # Duplikat DataFrame agar tidak merubah DataFrame asli\n",
    "    df_copy = dataframe.copy()\n",
    "\n",
    "    # Melakukan penggantian kata-kata dalam kolom tertentu\n",
    "    df_copy[column_name] = df_copy[column_name].apply(\n",
    "        lambda sentence: ' '.join(replacements.get(word, word) for word in sentence.split())\n",
    "    )\n",
    "\n",
    "    return df_copy"
   ]
  },
  {
   "cell_type": "code",
   "execution_count": 7,
   "id": "5685f90f",
   "metadata": {},
   "outputs": [
    {
     "data": {
      "text/html": [
       "<div>\n",
       "<style scoped>\n",
       "    .dataframe tbody tr th:only-of-type {\n",
       "        vertical-align: middle;\n",
       "    }\n",
       "\n",
       "    .dataframe tbody tr th {\n",
       "        vertical-align: top;\n",
       "    }\n",
       "\n",
       "    .dataframe thead th {\n",
       "        text-align: right;\n",
       "    }\n",
       "</style>\n",
       "<table border=\"1\" class=\"dataframe\">\n",
       "  <thead>\n",
       "    <tr style=\"text-align: right;\">\n",
       "      <th></th>\n",
       "      <th>textDisplay</th>\n",
       "    </tr>\n",
       "  </thead>\n",
       "  <tbody>\n",
       "    <tr>\n",
       "      <th>0</th>\n",
       "      <td>coba pikir ini jelas salah tetapi sedikit oran...</td>\n",
       "    </tr>\n",
       "    <tr>\n",
       "      <th>1</th>\n",
       "      <td>sudah mending pilih anis sudah jelas jelas kan...</td>\n",
       "    </tr>\n",
       "    <tr>\n",
       "      <th>2</th>\n",
       "      <td>mba nana harusnnya jangan framing kubu yang ti...</td>\n",
       "    </tr>\n",
       "    <tr>\n",
       "      <th>3</th>\n",
       "      <td>saya fanatik jokowi tetapi setelah terjadi rek...</td>\n",
       "    </tr>\n",
       "    <tr>\n",
       "      <th>4</th>\n",
       "      <td>assalamualaikum mbak saya koq tidak lihat meng...</td>\n",
       "    </tr>\n",
       "    <tr>\n",
       "      <th>...</th>\n",
       "      <td>...</td>\n",
       "    </tr>\n",
       "    <tr>\n",
       "      <th>891</th>\n",
       "      <td>kode keras dari najwa kalau gibran sampai maju...</td>\n",
       "    </tr>\n",
       "    <tr>\n",
       "      <th>892</th>\n",
       "      <td>saldi isra itu hakim pilihan presiden mereka s...</td>\n",
       "    </tr>\n",
       "    <tr>\n",
       "      <th>893</th>\n",
       "      <td>iya dong mubazir kalau tidak dipake</td>\n",
       "    </tr>\n",
       "    <tr>\n",
       "      <th>895</th>\n",
       "      <td>setuju</td>\n",
       "    </tr>\n",
       "    <tr>\n",
       "      <th>896</th>\n",
       "      <td>saiyan dungu beda antara mubazir dengan maruk ...</td>\n",
       "    </tr>\n",
       "  </tbody>\n",
       "</table>\n",
       "<p>893 rows × 1 columns</p>\n",
       "</div>"
      ],
      "text/plain": [
       "                                           textDisplay\n",
       "0    coba pikir ini jelas salah tetapi sedikit oran...\n",
       "1    sudah mending pilih anis sudah jelas jelas kan...\n",
       "2    mba nana harusnnya jangan framing kubu yang ti...\n",
       "3    saya fanatik jokowi tetapi setelah terjadi rek...\n",
       "4    assalamualaikum mbak saya koq tidak lihat meng...\n",
       "..                                                 ...\n",
       "891  kode keras dari najwa kalau gibran sampai maju...\n",
       "892  saldi isra itu hakim pilihan presiden mereka s...\n",
       "893                iya dong mubazir kalau tidak dipake\n",
       "895                                             setuju\n",
       "896  saiyan dungu beda antara mubazir dengan maruk ...\n",
       "\n",
       "[893 rows x 1 columns]"
      ]
     },
     "execution_count": 7,
     "metadata": {},
     "output_type": "execute_result"
    }
   ],
   "source": [
    "#data frame\n",
    "xx = data.copy()\n",
    "#kamus\n",
    "kamus = pd.read_csv('normalisasi.csv')\n",
    "kamus['original'] = kamus['original'].astype(str)\n",
    "dictionary = kamus.set_index('original').to_dict()['normalisasi'] #INI YANG SELAMA INI SAYA CARI - CARI WKWK\n",
    "\n",
    "#ujicoba fungsi\n",
    "df_resultt = replace_words_in_sentence(xx, 'textDisplay', dictionary)\n",
    "df_resultt"
   ]
  },
  {
   "cell_type": "code",
   "execution_count": 8,
   "id": "e3f7eb94",
   "metadata": {},
   "outputs": [
    {
     "name": "stdout",
     "output_type": "stream",
     "text": [
      "8\n",
      "textDisplay    0\n",
      "dtype: int64\n"
     ]
    }
   ],
   "source": [
    "#cek isi komentar apakah masih ada yg kurang baik\n",
    "print(df_resultt.duplicated().sum())\n",
    "print(df_resultt.isnull().sum())"
   ]
  },
  {
   "cell_type": "code",
   "execution_count": 9,
   "id": "2b762c97",
   "metadata": {},
   "outputs": [
    {
     "name": "stdout",
     "output_type": "stream",
     "text": [
      "0\n",
      "textDisplay    0\n",
      "dtype: int64\n"
     ]
    }
   ],
   "source": [
    "df_resultt=df_resultt.drop_duplicates()\n",
    "print(df_resultt.duplicated().sum())\n",
    "print(df_resultt.isnull().sum())"
   ]
  },
  {
   "cell_type": "code",
   "execution_count": 10,
   "id": "66e8b5fb",
   "metadata": {
    "scrolled": true
   },
   "outputs": [
    {
     "data": {
      "text/html": [
       "<div>\n",
       "<style scoped>\n",
       "    .dataframe tbody tr th:only-of-type {\n",
       "        vertical-align: middle;\n",
       "    }\n",
       "\n",
       "    .dataframe tbody tr th {\n",
       "        vertical-align: top;\n",
       "    }\n",
       "\n",
       "    .dataframe thead th {\n",
       "        text-align: right;\n",
       "    }\n",
       "</style>\n",
       "<table border=\"1\" class=\"dataframe\">\n",
       "  <thead>\n",
       "    <tr style=\"text-align: right;\">\n",
       "      <th></th>\n",
       "      <th>textDisplay</th>\n",
       "    </tr>\n",
       "  </thead>\n",
       "  <tbody>\n",
       "    <tr>\n",
       "      <th>0</th>\n",
       "      <td>coba pikir ini jelas salah tetapi sedikit oran...</td>\n",
       "    </tr>\n",
       "    <tr>\n",
       "      <th>1</th>\n",
       "      <td>sudah mending pilih anis sudah jelas jelas kan...</td>\n",
       "    </tr>\n",
       "    <tr>\n",
       "      <th>2</th>\n",
       "      <td>mba nana harusnnya jangan framing kubu yang ti...</td>\n",
       "    </tr>\n",
       "    <tr>\n",
       "      <th>3</th>\n",
       "      <td>saya fanatik jokowi tetapi setelah terjadi rek...</td>\n",
       "    </tr>\n",
       "    <tr>\n",
       "      <th>4</th>\n",
       "      <td>assalamualaikum mbak saya koq tidak lihat meng...</td>\n",
       "    </tr>\n",
       "    <tr>\n",
       "      <th>...</th>\n",
       "      <td>...</td>\n",
       "    </tr>\n",
       "    <tr>\n",
       "      <th>890</th>\n",
       "      <td>suara hatiku telah diwakilkan mbak nana</td>\n",
       "    </tr>\n",
       "    <tr>\n",
       "      <th>891</th>\n",
       "      <td>kode keras dari najwa kalau gibran sampai maju...</td>\n",
       "    </tr>\n",
       "    <tr>\n",
       "      <th>892</th>\n",
       "      <td>saldi isra itu hakim pilihan presiden mereka s...</td>\n",
       "    </tr>\n",
       "    <tr>\n",
       "      <th>893</th>\n",
       "      <td>iya dong mubazir kalau tidak dipake</td>\n",
       "    </tr>\n",
       "    <tr>\n",
       "      <th>896</th>\n",
       "      <td>saiyan dungu beda antara mubazir dengan maruk ...</td>\n",
       "    </tr>\n",
       "  </tbody>\n",
       "</table>\n",
       "<p>885 rows × 1 columns</p>\n",
       "</div>"
      ],
      "text/plain": [
       "                                           textDisplay\n",
       "0    coba pikir ini jelas salah tetapi sedikit oran...\n",
       "1    sudah mending pilih anis sudah jelas jelas kan...\n",
       "2    mba nana harusnnya jangan framing kubu yang ti...\n",
       "3    saya fanatik jokowi tetapi setelah terjadi rek...\n",
       "4    assalamualaikum mbak saya koq tidak lihat meng...\n",
       "..                                                 ...\n",
       "890            suara hatiku telah diwakilkan mbak nana\n",
       "891  kode keras dari najwa kalau gibran sampai maju...\n",
       "892  saldi isra itu hakim pilihan presiden mereka s...\n",
       "893                iya dong mubazir kalau tidak dipake\n",
       "896  saiyan dungu beda antara mubazir dengan maruk ...\n",
       "\n",
       "[885 rows x 1 columns]"
      ]
     },
     "execution_count": 10,
     "metadata": {},
     "output_type": "execute_result"
    }
   ],
   "source": [
    "df_resultt"
   ]
  },
  {
   "cell_type": "code",
   "execution_count": null,
   "id": "d335fee6",
   "metadata": {},
   "outputs": [],
   "source": [
    "df_resultt.to_csv('ralatdatasetbersih.csv',index=False)"
   ]
  },
  {
   "cell_type": "code",
   "execution_count": 11,
   "id": "98c89b59",
   "metadata": {},
   "outputs": [
    {
     "name": "stderr",
     "output_type": "stream",
     "text": [
      "C:\\Users\\bowok\\AppData\\Local\\Temp\\ipykernel_10556\\303265408.py:6: SettingWithCopyWarning: \n",
      "A value is trying to be set on a copy of a slice from a DataFrame.\n",
      "Try using .loc[row_indexer,col_indexer] = value instead\n",
      "\n",
      "See the caveats in the documentation: https://pandas.pydata.org/pandas-docs/stable/user_guide/indexing.html#returning-a-view-versus-a-copy\n",
      "  df_resultt['textDisplay'] = df_resultt['textDisplay'].apply(word_tokenize_wrapper)\n"
     ]
    },
    {
     "data": {
      "text/html": [
       "<div>\n",
       "<style scoped>\n",
       "    .dataframe tbody tr th:only-of-type {\n",
       "        vertical-align: middle;\n",
       "    }\n",
       "\n",
       "    .dataframe tbody tr th {\n",
       "        vertical-align: top;\n",
       "    }\n",
       "\n",
       "    .dataframe thead th {\n",
       "        text-align: right;\n",
       "    }\n",
       "</style>\n",
       "<table border=\"1\" class=\"dataframe\">\n",
       "  <thead>\n",
       "    <tr style=\"text-align: right;\">\n",
       "      <th></th>\n",
       "      <th>textDisplay</th>\n",
       "    </tr>\n",
       "  </thead>\n",
       "  <tbody>\n",
       "    <tr>\n",
       "      <th>0</th>\n",
       "      <td>[coba, pikir, ini, jelas, salah, tetapi, sedik...</td>\n",
       "    </tr>\n",
       "    <tr>\n",
       "      <th>1</th>\n",
       "      <td>[sudah, mending, pilih, anis, sudah, jelas, je...</td>\n",
       "    </tr>\n",
       "    <tr>\n",
       "      <th>2</th>\n",
       "      <td>[mba, nana, harusnnya, jangan, framing, kubu, ...</td>\n",
       "    </tr>\n",
       "    <tr>\n",
       "      <th>3</th>\n",
       "      <td>[saya, fanatik, jokowi, tetapi, setelah, terja...</td>\n",
       "    </tr>\n",
       "    <tr>\n",
       "      <th>4</th>\n",
       "      <td>[assalamualaikum, mbak, saya, koq, tidak, liha...</td>\n",
       "    </tr>\n",
       "  </tbody>\n",
       "</table>\n",
       "</div>"
      ],
      "text/plain": [
       "                                         textDisplay\n",
       "0  [coba, pikir, ini, jelas, salah, tetapi, sedik...\n",
       "1  [sudah, mending, pilih, anis, sudah, jelas, je...\n",
       "2  [mba, nana, harusnnya, jangan, framing, kubu, ...\n",
       "3  [saya, fanatik, jokowi, tetapi, setelah, terja...\n",
       "4  [assalamualaikum, mbak, saya, koq, tidak, liha..."
      ]
     },
     "execution_count": 11,
     "metadata": {},
     "output_type": "execute_result"
    }
   ],
   "source": [
    "#TOKENIZE, SATU PERSATU KATA DI PISAH2\n",
    "from nltk.tokenize import word_tokenize\n",
    "#NLTK word tokenize\n",
    "def word_tokenize_wrapper(text):\n",
    "    return word_tokenize(text)\n",
    "df_resultt['textDisplay'] = df_resultt['textDisplay'].apply(word_tokenize_wrapper)\n",
    "df_resultt.head()"
   ]
  },
  {
   "cell_type": "code",
   "execution_count": 12,
   "id": "57b5852f",
   "metadata": {
    "scrolled": true
   },
   "outputs": [
    {
     "name": "stderr",
     "output_type": "stream",
     "text": [
      "[nltk_data] Downloading package stopwords to\n",
      "[nltk_data]     C:\\Users\\bowok\\AppData\\Roaming\\nltk_data...\n",
      "[nltk_data]   Package stopwords is already up-to-date!\n",
      "C:\\Users\\bowok\\AppData\\Local\\Temp\\ipykernel_10556\\688719749.py:20: SettingWithCopyWarning: \n",
      "A value is trying to be set on a copy of a slice from a DataFrame.\n",
      "Try using .loc[row_indexer,col_indexer] = value instead\n",
      "\n",
      "See the caveats in the documentation: https://pandas.pydata.org/pandas-docs/stable/user_guide/indexing.html#returning-a-view-versus-a-copy\n",
      "  df_resultt['textDisplay'] = df_resultt['textDisplay'].apply(stopword_removal)\n"
     ]
    },
    {
     "data": {
      "text/html": [
       "<div>\n",
       "<style scoped>\n",
       "    .dataframe tbody tr th:only-of-type {\n",
       "        vertical-align: middle;\n",
       "    }\n",
       "\n",
       "    .dataframe tbody tr th {\n",
       "        vertical-align: top;\n",
       "    }\n",
       "\n",
       "    .dataframe thead th {\n",
       "        text-align: right;\n",
       "    }\n",
       "</style>\n",
       "<table border=\"1\" class=\"dataframe\">\n",
       "  <thead>\n",
       "    <tr style=\"text-align: right;\">\n",
       "      <th></th>\n",
       "      <th>textDisplay</th>\n",
       "    </tr>\n",
       "  </thead>\n",
       "  <tbody>\n",
       "    <tr>\n",
       "      <th>0</th>\n",
       "      <td>[coba, pikir, salah, orang, protes, orang, ora...</td>\n",
       "    </tr>\n",
       "    <tr>\n",
       "      <th>1</th>\n",
       "      <td>[mending, pilih, anis, inget, kapal, selam, na...</td>\n",
       "    </tr>\n",
       "    <tr>\n",
       "      <th>2</th>\n",
       "      <td>[mba, nana, harusnnya, framing, kubu, setujuco...</td>\n",
       "    </tr>\n",
       "    <tr>\n",
       "      <th>3</th>\n",
       "      <td>[fanatik, jokowi, rekayasa, konstitusi, lolosn...</td>\n",
       "    </tr>\n",
       "    <tr>\n",
       "      <th>4</th>\n",
       "      <td>[assalamualaikum, mbak, koq, lihat, menggebu2n...</td>\n",
       "    </tr>\n",
       "    <tr>\n",
       "      <th>5</th>\n",
       "      <td>[pelanggaran, moral, etik, berat, dinegara, in...</td>\n",
       "    </tr>\n",
       "    <tr>\n",
       "      <th>6</th>\n",
       "      <td>[fakta, satunya, orang, indonesia, putusan, ko...</td>\n",
       "    </tr>\n",
       "    <tr>\n",
       "      <th>7</th>\n",
       "      <td>[setali, uang, paman, ponakan, sama2, malu, pi...</td>\n",
       "    </tr>\n",
       "    <tr>\n",
       "      <th>8</th>\n",
       "      <td>[berkuasa, anak, indonesia, pintar, ditakuti, ...</td>\n",
       "    </tr>\n",
       "    <tr>\n",
       "      <th>9</th>\n",
       "      <td>[lawak, negeri, kepala, dinas, pendidikan, kam...</td>\n",
       "    </tr>\n",
       "  </tbody>\n",
       "</table>\n",
       "</div>"
      ],
      "text/plain": [
       "                                         textDisplay\n",
       "0  [coba, pikir, salah, orang, protes, orang, ora...\n",
       "1  [mending, pilih, anis, inget, kapal, selam, na...\n",
       "2  [mba, nana, harusnnya, framing, kubu, setujuco...\n",
       "3  [fanatik, jokowi, rekayasa, konstitusi, lolosn...\n",
       "4  [assalamualaikum, mbak, koq, lihat, menggebu2n...\n",
       "5  [pelanggaran, moral, etik, berat, dinegara, in...\n",
       "6  [fakta, satunya, orang, indonesia, putusan, ko...\n",
       "7  [setali, uang, paman, ponakan, sama2, malu, pi...\n",
       "8  [berkuasa, anak, indonesia, pintar, ditakuti, ...\n",
       "9  [lawak, negeri, kepala, dinas, pendidikan, kam..."
      ]
     },
     "execution_count": 12,
     "metadata": {},
     "output_type": "execute_result"
    }
   ],
   "source": [
    "#STOPWROD\n",
    "import nltk\n",
    "nltk.download('stopwords')\n",
    "from nltk.corpus import stopwords\n",
    "sw = pd.read_csv(\"stopwords.csv\")\n",
    "def stopword_removal(Review):\n",
    "    filtering = stopwords.words('indonesian','english')\n",
    "    filtering.extend(sw)\n",
    "    x = []\n",
    "    data = []\n",
    "    def myFunc(x):\n",
    "        if x in filtering:\n",
    "            return False\n",
    "        else:\n",
    "            return True\n",
    "    fit = filter(myFunc, Review)\n",
    "    for x in fit:\n",
    "        data.append(x)\n",
    "    return data\n",
    "df_resultt['textDisplay'] = df_resultt['textDisplay'].apply(stopword_removal)\n",
    "df_resultt.head(10)"
   ]
  },
  {
   "cell_type": "code",
   "execution_count": null,
   "id": "7e6f28f9",
   "metadata": {},
   "outputs": [],
   "source": [
    "df_resultt.to_csv('hasilstopwordbismillah.csv',index=False)"
   ]
  },
  {
   "cell_type": "code",
   "execution_count": null,
   "id": "6ea21db3",
   "metadata": {},
   "outputs": [],
   "source": [
    "# proses stemming\n",
    "!pip install Sastrawi\n",
    "from sklearn.pipeline import Pipeline\n",
    "from Sastrawi.Stemmer.StemmerFactory import StemmerFactory\n",
    "\n",
    "def stemming(Review):\n",
    "    factory = StemmerFactory()\n",
    "    stemmer = factory.create_stemmer()\n",
    "    do = []\n",
    "    for w in Review:\n",
    "        dt = stemmer.stem(w)\n",
    "        do.append(dt)\n",
    "    d_clean=[]\n",
    "    d_clean=\" \".join(do)\n",
    "    print(d_clean)\n",
    "    return d_clean\n",
    "df_resultt['textDisplay'] = df_resultt['textDisplay'].apply(stemming)\n",
    "\n",
    "df_resultt.to_csv('bowiqReviewSentimenbismillah.csv', index=False)\n",
    "#data_clean = pd.read_csv('bowiqReviewSentimen.csv', encoding='latin1')\n",
    "#data_clean.head()"
   ]
  },
  {
   "cell_type": "code",
   "execution_count": 13,
   "id": "874ce64f",
   "metadata": {},
   "outputs": [
    {
     "name": "stderr",
     "output_type": "stream",
     "text": [
      "[nltk_data] Downloading package punkt to\n",
      "[nltk_data]     C:\\Users\\bowok\\AppData\\Roaming\\nltk_data...\n",
      "[nltk_data]   Package punkt is already up-to-date!\n"
     ]
    },
    {
     "data": {
      "text/plain": [
       "True"
      ]
     },
     "execution_count": 13,
     "metadata": {},
     "output_type": "execute_result"
    }
   ],
   "source": [
    "import preprocessor as p\n",
    "from textblob import TextBlob\n",
    "import nltk\n",
    "from nltk.stem import PorterStemmer\n",
    "from nltk.tokenize import word_tokenize\n",
    "\n",
    "nltk.download('punkt')"
   ]
  },
  {
   "cell_type": "code",
   "execution_count": 14,
   "id": "2b5bcbe4",
   "metadata": {},
   "outputs": [
    {
     "name": "stderr",
     "output_type": "stream",
     "text": [
      "[nltk_data] Downloading package vader_lexicon to\n",
      "[nltk_data]     C:\\Users\\bowok\\AppData\\Roaming\\nltk_data...\n",
      "[nltk_data]   Package vader_lexicon is already up-to-date!\n"
     ]
    },
    {
     "data": {
      "text/plain": [
       "True"
      ]
     },
     "execution_count": 14,
     "metadata": {},
     "output_type": "execute_result"
    }
   ],
   "source": [
    "from nltk.sentiment.vader import SentimentIntensityAnalyzer\n",
    "nltk.download(\"vader_lexicon\")"
   ]
  },
  {
   "cell_type": "code",
   "execution_count": 15,
   "id": "699844a1",
   "metadata": {},
   "outputs": [],
   "source": [
    "sentiment = pd.read_csv('ralatdatasetbersih.csv')\n",
    "sentiment[\"textDisplay\"] = sentiment[\"textDisplay\"].astype(str) #perlu di konversi ke str agak bisa dibaca str"
   ]
  },
  {
   "cell_type": "code",
   "execution_count": 16,
   "id": "cb76512e",
   "metadata": {},
   "outputs": [],
   "source": [
    "sentiments = SentimentIntensityAnalyzer()\n",
    "\n",
    "#tambahkan nilai vader bahasa indonesia scr eksternal\n",
    "#import nilai bahasa indonesia\n",
    "lexicon_positif = pd.read_csv('lexicon_positive.csv')\n",
    "lexicon_negative = pd.read_csv('lexicon_negative.csv')\n",
    "\n",
    "lexicon_positif['word'] = lexicon_positif['word'].astype(str)\n",
    "lexicon_negative['word'] = lexicon_negative['word'].astype(str)\n",
    "\n",
    "dictionary_positif = lexicon_positif.set_index('word').to_dict()['weight'] #INI YANG SELAMA INI SAYA CARI - CARI WKWK\n",
    "dictionary_negative = lexicon_negative.set_index('word').to_dict()['weight'] #INI YANG SELAMA INI SAYA CARI - CARI WKWK\n",
    "\n",
    "# Tambahkan kamus lexicon bahasa Indonesia ke dalam VADER\n",
    "sentiments.lexicon.update(dictionary_positif)\n",
    "# Tambahkan kamus lexicon bahasa Indonesia ke dalam VADER\n",
    "sentiments.lexicon.update(dictionary_negative)"
   ]
  },
  {
   "cell_type": "code",
   "execution_count": 17,
   "id": "560a257d",
   "metadata": {},
   "outputs": [
    {
     "data": {
      "text/html": [
       "<div>\n",
       "<style scoped>\n",
       "    .dataframe tbody tr th:only-of-type {\n",
       "        vertical-align: middle;\n",
       "    }\n",
       "\n",
       "    .dataframe tbody tr th {\n",
       "        vertical-align: top;\n",
       "    }\n",
       "\n",
       "    .dataframe thead th {\n",
       "        text-align: right;\n",
       "    }\n",
       "</style>\n",
       "<table border=\"1\" class=\"dataframe\">\n",
       "  <thead>\n",
       "    <tr style=\"text-align: right;\">\n",
       "      <th></th>\n",
       "      <th>textDisplay</th>\n",
       "      <th>Positif</th>\n",
       "      <th>Negatif</th>\n",
       "      <th>Neutral</th>\n",
       "      <th>Compound</th>\n",
       "    </tr>\n",
       "  </thead>\n",
       "  <tbody>\n",
       "    <tr>\n",
       "      <th>0</th>\n",
       "      <td>coba pikir ini jelas salah tetapi sedikit oran...</td>\n",
       "      <td>0.000</td>\n",
       "      <td>0.867</td>\n",
       "      <td>0.133</td>\n",
       "      <td>-0.9951</td>\n",
       "    </tr>\n",
       "    <tr>\n",
       "      <th>1</th>\n",
       "      <td>sudah mending pilih anis sudah jelas jelas kan...</td>\n",
       "      <td>0.000</td>\n",
       "      <td>0.810</td>\n",
       "      <td>0.190</td>\n",
       "      <td>-0.9882</td>\n",
       "    </tr>\n",
       "    <tr>\n",
       "      <th>2</th>\n",
       "      <td>mba nana harusnnya jangan framing kubu yang ti...</td>\n",
       "      <td>0.042</td>\n",
       "      <td>0.803</td>\n",
       "      <td>0.155</td>\n",
       "      <td>-0.9960</td>\n",
       "    </tr>\n",
       "    <tr>\n",
       "      <th>3</th>\n",
       "      <td>saya fanatik jokowi tetapi setelah terjadi rek...</td>\n",
       "      <td>0.163</td>\n",
       "      <td>0.488</td>\n",
       "      <td>0.349</td>\n",
       "      <td>-0.9432</td>\n",
       "    </tr>\n",
       "    <tr>\n",
       "      <th>4</th>\n",
       "      <td>assalamualaikum mbak saya koq tidak lihat meng...</td>\n",
       "      <td>0.235</td>\n",
       "      <td>0.529</td>\n",
       "      <td>0.235</td>\n",
       "      <td>-0.9517</td>\n",
       "    </tr>\n",
       "  </tbody>\n",
       "</table>\n",
       "</div>"
      ],
      "text/plain": [
       "                                         textDisplay  Positif  Negatif  \\\n",
       "0  coba pikir ini jelas salah tetapi sedikit oran...    0.000    0.867   \n",
       "1  sudah mending pilih anis sudah jelas jelas kan...    0.000    0.810   \n",
       "2  mba nana harusnnya jangan framing kubu yang ti...    0.042    0.803   \n",
       "3  saya fanatik jokowi tetapi setelah terjadi rek...    0.163    0.488   \n",
       "4  assalamualaikum mbak saya koq tidak lihat meng...    0.235    0.529   \n",
       "\n",
       "   Neutral  Compound  \n",
       "0    0.133   -0.9951  \n",
       "1    0.190   -0.9882  \n",
       "2    0.155   -0.9960  \n",
       "3    0.349   -0.9432  \n",
       "4    0.235   -0.9517  "
      ]
     },
     "execution_count": 17,
     "metadata": {},
     "output_type": "execute_result"
    }
   ],
   "source": [
    "sentiment[\"Positif\"] = [sentiments.polarity_scores(i)[\"pos\"]for i in sentiment[\"textDisplay\"]]\n",
    "sentiment[\"Negatif\"] = [sentiments.polarity_scores(i)[\"neg\"]for i in sentiment[\"textDisplay\"]]\n",
    "sentiment[\"Neutral\"] = [sentiments.polarity_scores(i)[\"neu\"]for i in sentiment[\"textDisplay\"]]\n",
    "sentiment['Compound'] = [sentiments.polarity_scores(i)[\"compound\"]for i in sentiment[\"textDisplay\"]]\n",
    "sentiment.head()"
   ]
  },
  {
   "cell_type": "code",
   "execution_count": 18,
   "id": "2a151245",
   "metadata": {},
   "outputs": [
    {
     "data": {
      "text/html": [
       "<div>\n",
       "<style scoped>\n",
       "    .dataframe tbody tr th:only-of-type {\n",
       "        vertical-align: middle;\n",
       "    }\n",
       "\n",
       "    .dataframe tbody tr th {\n",
       "        vertical-align: top;\n",
       "    }\n",
       "\n",
       "    .dataframe thead th {\n",
       "        text-align: right;\n",
       "    }\n",
       "</style>\n",
       "<table border=\"1\" class=\"dataframe\">\n",
       "  <thead>\n",
       "    <tr style=\"text-align: right;\">\n",
       "      <th></th>\n",
       "      <th>textDisplay</th>\n",
       "      <th>Positif</th>\n",
       "      <th>Negatif</th>\n",
       "      <th>Neutral</th>\n",
       "      <th>Compound</th>\n",
       "      <th>Sentiment</th>\n",
       "    </tr>\n",
       "  </thead>\n",
       "  <tbody>\n",
       "    <tr>\n",
       "      <th>0</th>\n",
       "      <td>coba pikir ini jelas salah tetapi sedikit oran...</td>\n",
       "      <td>0.000</td>\n",
       "      <td>0.867</td>\n",
       "      <td>0.133</td>\n",
       "      <td>-0.9951</td>\n",
       "      <td>negatif</td>\n",
       "    </tr>\n",
       "    <tr>\n",
       "      <th>1</th>\n",
       "      <td>sudah mending pilih anis sudah jelas jelas kan...</td>\n",
       "      <td>0.000</td>\n",
       "      <td>0.810</td>\n",
       "      <td>0.190</td>\n",
       "      <td>-0.9882</td>\n",
       "      <td>negatif</td>\n",
       "    </tr>\n",
       "    <tr>\n",
       "      <th>2</th>\n",
       "      <td>mba nana harusnnya jangan framing kubu yang ti...</td>\n",
       "      <td>0.042</td>\n",
       "      <td>0.803</td>\n",
       "      <td>0.155</td>\n",
       "      <td>-0.9960</td>\n",
       "      <td>negatif</td>\n",
       "    </tr>\n",
       "    <tr>\n",
       "      <th>3</th>\n",
       "      <td>saya fanatik jokowi tetapi setelah terjadi rek...</td>\n",
       "      <td>0.163</td>\n",
       "      <td>0.488</td>\n",
       "      <td>0.349</td>\n",
       "      <td>-0.9432</td>\n",
       "      <td>negatif</td>\n",
       "    </tr>\n",
       "    <tr>\n",
       "      <th>4</th>\n",
       "      <td>assalamualaikum mbak saya koq tidak lihat meng...</td>\n",
       "      <td>0.235</td>\n",
       "      <td>0.529</td>\n",
       "      <td>0.235</td>\n",
       "      <td>-0.9517</td>\n",
       "      <td>negatif</td>\n",
       "    </tr>\n",
       "  </tbody>\n",
       "</table>\n",
       "</div>"
      ],
      "text/plain": [
       "                                         textDisplay  Positif  Negatif  \\\n",
       "0  coba pikir ini jelas salah tetapi sedikit oran...    0.000    0.867   \n",
       "1  sudah mending pilih anis sudah jelas jelas kan...    0.000    0.810   \n",
       "2  mba nana harusnnya jangan framing kubu yang ti...    0.042    0.803   \n",
       "3  saya fanatik jokowi tetapi setelah terjadi rek...    0.163    0.488   \n",
       "4  assalamualaikum mbak saya koq tidak lihat meng...    0.235    0.529   \n",
       "\n",
       "   Neutral  Compound Sentiment  \n",
       "0    0.133   -0.9951   negatif  \n",
       "1    0.190   -0.9882   negatif  \n",
       "2    0.155   -0.9960   negatif  \n",
       "3    0.349   -0.9432   negatif  \n",
       "4    0.235   -0.9517   negatif  "
      ]
     },
     "execution_count": 18,
     "metadata": {},
     "output_type": "execute_result"
    }
   ],
   "source": [
    "score = sentiment[\"Compound\"].values\n",
    "hasil_sentiment =[]\n",
    "for i in score:\n",
    "    if  i>= 0.05:\n",
    "        hasil_sentiment.append('positif')\n",
    "    elif i <= -0.05:\n",
    "        hasil_sentiment.append('negatif')\n",
    "    else:\n",
    "        hasil_sentiment.append('netral')\n",
    "        \n",
    "sentiment[\"Sentiment\"] = hasil_sentiment\n",
    "sentiment.head()"
   ]
  },
  {
   "cell_type": "code",
   "execution_count": 19,
   "id": "45963a07",
   "metadata": {},
   "outputs": [
    {
     "data": {
      "text/html": [
       "<div>\n",
       "<style scoped>\n",
       "    .dataframe tbody tr th:only-of-type {\n",
       "        vertical-align: middle;\n",
       "    }\n",
       "\n",
       "    .dataframe tbody tr th {\n",
       "        vertical-align: top;\n",
       "    }\n",
       "\n",
       "    .dataframe thead th {\n",
       "        text-align: right;\n",
       "    }\n",
       "</style>\n",
       "<table border=\"1\" class=\"dataframe\">\n",
       "  <thead>\n",
       "    <tr style=\"text-align: right;\">\n",
       "      <th></th>\n",
       "      <th>textDisplay</th>\n",
       "      <th>Sentiment</th>\n",
       "    </tr>\n",
       "  </thead>\n",
       "  <tbody>\n",
       "    <tr>\n",
       "      <th>0</th>\n",
       "      <td>coba pikir ini jelas salah tetapi sedikit oran...</td>\n",
       "      <td>negatif</td>\n",
       "    </tr>\n",
       "    <tr>\n",
       "      <th>1</th>\n",
       "      <td>sudah mending pilih anis sudah jelas jelas kan...</td>\n",
       "      <td>negatif</td>\n",
       "    </tr>\n",
       "    <tr>\n",
       "      <th>2</th>\n",
       "      <td>mba nana harusnnya jangan framing kubu yang ti...</td>\n",
       "      <td>negatif</td>\n",
       "    </tr>\n",
       "    <tr>\n",
       "      <th>3</th>\n",
       "      <td>saya fanatik jokowi tetapi setelah terjadi rek...</td>\n",
       "      <td>negatif</td>\n",
       "    </tr>\n",
       "    <tr>\n",
       "      <th>4</th>\n",
       "      <td>assalamualaikum mbak saya koq tidak lihat meng...</td>\n",
       "      <td>negatif</td>\n",
       "    </tr>\n",
       "  </tbody>\n",
       "</table>\n",
       "</div>"
      ],
      "text/plain": [
       "                                         textDisplay Sentiment\n",
       "0  coba pikir ini jelas salah tetapi sedikit oran...   negatif\n",
       "1  sudah mending pilih anis sudah jelas jelas kan...   negatif\n",
       "2  mba nana harusnnya jangan framing kubu yang ti...   negatif\n",
       "3  saya fanatik jokowi tetapi setelah terjadi rek...   negatif\n",
       "4  assalamualaikum mbak saya koq tidak lihat meng...   negatif"
      ]
     },
     "execution_count": 19,
     "metadata": {},
     "output_type": "execute_result"
    }
   ],
   "source": [
    "kolom_drop = ['Positif','Negatif','Neutral','Compound']\n",
    "sentiment = sentiment.drop(kolom_drop,axis=1)\n",
    "sentiment.head()"
   ]
  },
  {
   "cell_type": "code",
   "execution_count": 20,
   "id": "e4550552",
   "metadata": {},
   "outputs": [],
   "source": [
    "sentiment.to_csv('HasilLabelSementaraPrabowoVader111.csv',index=False)"
   ]
  },
  {
   "cell_type": "code",
   "execution_count": 2,
   "id": "00697fe3",
   "metadata": {},
   "outputs": [
    {
     "data": {
      "text/html": [
       "<div>\n",
       "<style scoped>\n",
       "    .dataframe tbody tr th:only-of-type {\n",
       "        vertical-align: middle;\n",
       "    }\n",
       "\n",
       "    .dataframe tbody tr th {\n",
       "        vertical-align: top;\n",
       "    }\n",
       "\n",
       "    .dataframe thead th {\n",
       "        text-align: right;\n",
       "    }\n",
       "</style>\n",
       "<table border=\"1\" class=\"dataframe\">\n",
       "  <thead>\n",
       "    <tr style=\"text-align: right;\">\n",
       "      <th></th>\n",
       "      <th>textDisplay</th>\n",
       "      <th>Sentiment</th>\n",
       "    </tr>\n",
       "  </thead>\n",
       "  <tbody>\n",
       "    <tr>\n",
       "      <th>0</th>\n",
       "      <td>coba pikir ini jelas salah tetapi sedikit oran...</td>\n",
       "      <td>negatif</td>\n",
       "    </tr>\n",
       "    <tr>\n",
       "      <th>1</th>\n",
       "      <td>sudah mending pilih anis sudah jelas jelas kan...</td>\n",
       "      <td>negatif</td>\n",
       "    </tr>\n",
       "    <tr>\n",
       "      <th>2</th>\n",
       "      <td>mba nana harusnnya jangan framing kubu yang ti...</td>\n",
       "      <td>negatif</td>\n",
       "    </tr>\n",
       "    <tr>\n",
       "      <th>3</th>\n",
       "      <td>saya fanatik jokowi tetapi setelah terjadi rek...</td>\n",
       "      <td>negatif</td>\n",
       "    </tr>\n",
       "    <tr>\n",
       "      <th>4</th>\n",
       "      <td>assalamualaikum mbak saya koq tidak lihat meng...</td>\n",
       "      <td>negatif</td>\n",
       "    </tr>\n",
       "  </tbody>\n",
       "</table>\n",
       "</div>"
      ],
      "text/plain": [
       "                                         textDisplay Sentiment\n",
       "0  coba pikir ini jelas salah tetapi sedikit oran...   negatif\n",
       "1  sudah mending pilih anis sudah jelas jelas kan...   negatif\n",
       "2  mba nana harusnnya jangan framing kubu yang ti...   negatif\n",
       "3  saya fanatik jokowi tetapi setelah terjadi rek...   negatif\n",
       "4  assalamualaikum mbak saya koq tidak lihat meng...   negatif"
      ]
     },
     "execution_count": 2,
     "metadata": {},
     "output_type": "execute_result"
    }
   ],
   "source": [
    "import pandas as pd\n",
    "data_clean = pd.read_csv('HasilLabelSementaraPrabowoVader111.csv', encoding='latin1')\n",
    "data_clean.head()"
   ]
  },
  {
   "cell_type": "code",
   "execution_count": 3,
   "id": "405e46b4",
   "metadata": {},
   "outputs": [
    {
     "data": {
      "text/plain": [
       "textDisplay      string\n",
       "Sentiment      category\n",
       "dtype: object"
      ]
     },
     "execution_count": 3,
     "metadata": {},
     "output_type": "execute_result"
    }
   ],
   "source": [
    "data_clean = data_clean.astype({'Sentiment' : 'category'})\n",
    "data_clean = data_clean.astype({'textDisplay' : 'string'})\n",
    "data_clean.dtypes"
   ]
  },
  {
   "cell_type": "code",
   "execution_count": 4,
   "id": "72b1b998",
   "metadata": {},
   "outputs": [
    {
     "name": "stdout",
     "output_type": "stream",
     "text": [
      "  (0, 3472)\t0.29126079287122847\n",
      "  (0, 4213)\t0.20852921055847157\n",
      "  (0, 1426)\t0.2746124630884017\n",
      "  (0, 368)\t0.24615195534251652\n",
      "  (0, 241)\t0.26280028512534337\n",
      "  (0, 371)\t0.17036261897090874\n",
      "  (0, 244)\t0.1476947749639298\n",
      "  (0, 1908)\t0.2736530855776118\n",
      "  (0, 3766)\t0.25363804808718354\n",
      "  (0, 4791)\t0.08074966520315115\n",
      "  (0, 3294)\t0.422506686243543\n",
      "  (0, 4048)\t0.26280028512534337\n",
      "  (0, 4516)\t0.1377927010919622\n",
      "  (0, 3955)\t0.18006870281258644\n",
      "  (0, 1768)\t0.18006870281258644\n",
      "  (0, 1653)\t0.11185199205937243\n",
      "  (0, 3632)\t0.2746124630884017\n",
      "  (0, 831)\t0.2251775403412984\n",
      "  (1, 2257)\t0.24960388057558247\n",
      "  (1, 934)\t0.10655468732998885\n",
      "  (1, 3943)\t0.13307041028326744\n",
      "  (1, 59)\t0.30314006299046076\n",
      "  (1, 3115)\t0.30314006299046076\n",
      "  (1, 4087)\t0.30314006299046076\n",
      "  (1, 1901)\t0.30314006299046076\n",
      "  :\t:\n",
      "  (882, 3961)\t0.34793557078918685\n",
      "  (882, 479)\t0.3139370950249165\n",
      "  (882, 1474)\t0.2689935547287805\n",
      "  (882, 3935)\t0.5483228564347323\n",
      "  (882, 3640)\t0.28648825827417673\n",
      "  (882, 3471)\t0.2799386192606462\n",
      "  (882, 3727)\t0.16638880988127513\n",
      "  (882, 2933)\t0.2260523100926007\n",
      "  (882, 1713)\t0.154129309186283\n",
      "  (882, 3943)\t0.15273444460066932\n",
      "  (883, 1085)\t0.5410107621018937\n",
      "  (883, 3044)\t0.5100868416705128\n",
      "  (883, 1720)\t0.44546532161285246\n",
      "  (883, 1207)\t0.40435725936991357\n",
      "  (883, 1877)\t0.23265624970040652\n",
      "  (883, 4529)\t0.1761978795419567\n",
      "  (884, 855)\t0.37788933580248724\n",
      "  (884, 3942)\t0.37788933580248724\n",
      "  (884, 3044)\t0.35628935929402994\n",
      "  (884, 1822)\t0.35628935929402994\n",
      "  (884, 1229)\t0.35628935929402994\n",
      "  (884, 2538)\t0.35628935929402994\n",
      "  (884, 239)\t0.3040385283342193\n",
      "  (884, 411)\t0.29776397905143864\n",
      "  (884, 913)\t0.1597750157462837\n"
     ]
    }
   ],
   "source": [
    "# PROSES TF IDF\n",
    "from sklearn.feature_extraction.text import CountVectorizer\n",
    "from sklearn.feature_extraction.text import TfidfVectorizer\n",
    "\n",
    "vectorizer = CountVectorizer()\n",
    "X = vectorizer.fit_transform(data_clean['textDisplay'].astype('U'))\n",
    "\n",
    "tf = TfidfVectorizer()\n",
    "text_tf = tf.fit_transform(data_clean['textDisplay'].astype('U'))\n",
    "print(text_tf)"
   ]
  },
  {
   "cell_type": "code",
   "execution_count": 5,
   "id": "9672b59c",
   "metadata": {},
   "outputs": [],
   "source": [
    "# Import cosine_similarity metrics\n",
    "from sklearn.metrics.pairwise import cosine_similarity"
   ]
  },
  {
   "cell_type": "code",
   "execution_count": 6,
   "id": "13bb9615",
   "metadata": {},
   "outputs": [
    {
     "name": "stdout",
     "output_type": "stream",
     "text": [
      "[[1.         0.06749441 0.03773568 ... 0.         0.         0.        ]\n",
      " [0.06749441 1.         0.         ... 0.02032444 0.         0.        ]\n",
      " [0.03773568 0.         1.         ... 0.         0.0299878  0.        ]\n",
      " ...\n",
      " [0.         0.02032444 0.         ... 1.         0.         0.        ]\n",
      " [0.         0.         0.0299878  ... 0.         1.         0.18173851]\n",
      " [0.         0.         0.         ... 0.         0.18173851 1.        ]]\n"
     ]
    }
   ],
   "source": [
    "# compute similarity using cosine similarity\n",
    "cos_sim=cosine_similarity(text_tf, text_tf)\n",
    "\n",
    "print(cos_sim)"
   ]
  },
  {
   "cell_type": "code",
   "execution_count": 9,
   "id": "9268dd91",
   "metadata": {},
   "outputs": [
    {
     "name": "stdout",
     "output_type": "stream",
     "text": [
      "Jumlah Data Uji: (177, 885)\n",
      "Jumlah Data Latih: (708, 885)\n",
      "Jumlah data uji dengan sentimen positif: 0\n",
      "Jumlah data uji dengan sentimen negatif: 0\n",
      "Jumlah data latih dengan sentimen positif: 0\n",
      "Jumlah data latih dengan sentimen negatif: 0\n"
     ]
    },
    {
     "data": {
      "text/plain": [
       "negatif    764\n",
       "positif     61\n",
       "netral      60\n",
       "Name: Sentiment, dtype: int64"
      ]
     },
     "execution_count": 9,
     "metadata": {},
     "output_type": "execute_result"
    }
   ],
   "source": [
    "# splitting data \n",
    "import collections, numpy\n",
    "from sklearn.model_selection import train_test_split\n",
    "X_train, X_test, y_train, y_test = train_test_split(cos_sim, data_clean['Sentiment'], test_size=0.2, random_state=33)\n",
    "print(\"Jumlah Data Uji:\", X_test.shape)\n",
    "print(\"Jumlah Data Latih:\",X_train.shape)\n",
    "\n",
    "pos = (y_test == 'POSITIF').sum()\n",
    "neg = (y_test == 'NEGATIF').sum()\n",
    "postrain = (y_train == 'POSITIF').sum()\n",
    "negtrain = (y_train == 'NEGATIF').sum()\n",
    "total = pos + neg\n",
    "print(\"Jumlah data uji dengan sentimen positif:\", pos)\n",
    "print(\"Jumlah data uji dengan sentimen negatif:\",neg)\n",
    "print(\"Jumlah data latih dengan sentimen positif:\", postrain)\n",
    "print(\"Jumlah data latih dengan sentimen negatif:\",negtrain)\n",
    "data_clean['Sentiment'].value_counts()"
   ]
  },
  {
   "cell_type": "code",
   "execution_count": 13,
   "id": "b60e3371",
   "metadata": {},
   "outputs": [
    {
     "name": "stdout",
     "output_type": "stream",
     "text": [
      "confusion matrix:\n",
      " [[154   5   2]\n",
      " [  6   2   0]\n",
      " [  7   1   0]]\n",
      "===============================================\n",
      "\n"
     ]
    },
    {
     "name": "stderr",
     "output_type": "stream",
     "text": [
      "C:\\Users\\bowok\\anaconda3\\lib\\site-packages\\sklearn\\neighbors\\_classification.py:228: FutureWarning: Unlike other reduction functions (e.g. `skew`, `kurtosis`), the default behavior of `mode` typically preserves the axis it acts along. In SciPy 1.11.0, this behavior will change: the default value of `keepdims` will become False, the `axis` over which the statistic is taken will be eliminated, and the value None will no longer be accepted. Set `keepdims` to True or False to avoid this warning.\n",
      "  mode, _ = stats.mode(_y[neigh_ind, k], axis=1)\n"
     ]
    }
   ],
   "source": [
    "# perform algoritma KNN\n",
    "from sklearn.metrics import accuracy_score, precision_score, recall_score, f1_score\n",
    "from sklearn.metrics import classification_report\n",
    "from sklearn.metrics import confusion_matrix\n",
    "from sklearn.neighbors import KNeighborsClassifier\n",
    "\n",
    "clf = KNeighborsClassifier(n_neighbors=7).fit(X_train, y_train)\n",
    "predicted = clf.predict(X_test)\n",
    "print(f'confusion matrix:\\n {confusion_matrix(y_test, predicted)}')\n",
    "print('===============================================\\n')"
   ]
  },
  {
   "cell_type": "code",
   "execution_count": 19,
   "id": "023bb973",
   "metadata": {},
   "outputs": [
    {
     "data": {
      "text/plain": [
       "array([[154,   5,   2],\n",
       "       [  6,   2,   0],\n",
       "       [  7,   1,   0]], dtype=int64)"
      ]
     },
     "execution_count": 19,
     "metadata": {},
     "output_type": "execute_result"
    }
   ],
   "source": [
    "tN= confusion_matrix(y_test, predicted)\n",
    "tN"
   ]
  },
  {
   "cell_type": "code",
   "execution_count": null,
   "id": "39a3ba40",
   "metadata": {},
   "outputs": [],
   "source": []
  }
 ],
 "metadata": {
  "kernelspec": {
   "display_name": "Python 3 (ipykernel)",
   "language": "python",
   "name": "python3"
  },
  "language_info": {
   "codemirror_mode": {
    "name": "ipython",
    "version": 3
   },
   "file_extension": ".py",
   "mimetype": "text/x-python",
   "name": "python",
   "nbconvert_exporter": "python",
   "pygments_lexer": "ipython3",
   "version": "3.9.13"
  }
 },
 "nbformat": 4,
 "nbformat_minor": 5
}
